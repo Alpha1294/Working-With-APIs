{
 "cells": [
  {
   "cell_type": "markdown",
   "metadata": {},
   "source": [
    "# Use this notebook for your 3 choices of APIs"
   ]
  },
  {
   "cell_type": "code",
   "execution_count": 52,
   "metadata": {},
   "outputs": [],
   "source": [
    "import random\n",
    "import string\n",
    "import requests\n",
    "import json\n",
    "import pandas as pd\n",
    "from pandas.io.json import json_normalize"
   ]
  },
  {
   "cell_type": "code",
   "execution_count": null,
   "metadata": {},
   "outputs": [],
   "source": []
  },
  {
   "cell_type": "code",
   "execution_count": 3,
   "metadata": {},
   "outputs": [
    {
     "data": {
      "text/plain": [
       "('J', 13)"
      ]
     },
     "execution_count": 3,
     "metadata": {},
     "output_type": "execute_result"
    }
   ],
   "source": [
    "# to chose the apis i will randomly pick a letter for the category and a number for whats inside\n",
    "random_letter = random.choice(string.ascii_uppercase)\n",
    "\n",
    "#generate a random between 0 and 30\n",
    "random_number=random.randint(0,30)\n",
    "(random_letter,random_number)"
   ]
  },
  {
   "cell_type": "code",
   "execution_count": null,
   "metadata": {},
   "outputs": [],
   "source": []
  },
  {
   "cell_type": "code",
   "execution_count": 4,
   "metadata": {},
   "outputs": [],
   "source": [
    "#So our first winner is U-9 https://ulvis.net/developer.html"
   ]
  },
  {
   "cell_type": "code",
   "execution_count": 5,
   "metadata": {},
   "outputs": [],
   "source": [
    "#second one is W 16   which leads us to Weather! --> ODWeather  https://api.oceandrivers.com/static/docs.html"
   ]
  },
  {
   "cell_type": "code",
   "execution_count": 6,
   "metadata": {},
   "outputs": [],
   "source": [
    "# third and last winned A 2 Axolotl https://theaxolotlapi.netlify.app/ --> collection of axolotl pictures and facts"
   ]
  },
  {
   "cell_type": "code",
   "execution_count": null,
   "metadata": {},
   "outputs": [],
   "source": []
  },
  {
   "cell_type": "code",
   "execution_count": 39,
   "metadata": {},
   "outputs": [
    {
     "data": {
      "text/plain": [
       "200"
      ]
     },
     "execution_count": 39,
     "metadata": {},
     "output_type": "execute_result"
    }
   ],
   "source": [
    "#lets go with the first one\n",
    "# make a get request to the api\n",
    "response_1=requests.get(\"https://api.chucknorris.io/jokes/random\")\n",
    "response_1.status_code"
   ]
  },
  {
   "cell_type": "code",
   "execution_count": 40,
   "metadata": {},
   "outputs": [],
   "source": [
    "#parse the json response\n",
    "joke_data=response_1.json()"
   ]
  },
  {
   "cell_type": "code",
   "execution_count": 41,
   "metadata": {},
   "outputs": [
    {
     "data": {
      "text/plain": [
       "{'categories': [],\n",
       " 'created_at': '2020-01-05 13:42:30.730109',\n",
       " 'icon_url': 'https://assets.chucknorris.host/img/avatar/chuck-norris.png',\n",
       " 'id': 'zpz2_Y4oS0ufnUZ3-WUQcw',\n",
       " 'updated_at': '2020-01-05 13:42:30.730109',\n",
       " 'url': 'https://api.chucknorris.io/jokes/zpz2_Y4oS0ufnUZ3-WUQcw',\n",
       " 'value': 'Chuck Norris dosent need love, Chuck Norris is love.'}"
      ]
     },
     "execution_count": 41,
     "metadata": {},
     "output_type": "execute_result"
    }
   ],
   "source": [
    "joke_data"
   ]
  },
  {
   "cell_type": "code",
   "execution_count": 42,
   "metadata": {},
   "outputs": [],
   "source": [
    "df_random_joke = pd.DataFrame([joke_data])"
   ]
  },
  {
   "cell_type": "code",
   "execution_count": 43,
   "metadata": {},
   "outputs": [
    {
     "data": {
      "text/html": [
       "<div>\n",
       "<style scoped>\n",
       "    .dataframe tbody tr th:only-of-type {\n",
       "        vertical-align: middle;\n",
       "    }\n",
       "\n",
       "    .dataframe tbody tr th {\n",
       "        vertical-align: top;\n",
       "    }\n",
       "\n",
       "    .dataframe thead th {\n",
       "        text-align: right;\n",
       "    }\n",
       "</style>\n",
       "<table border=\"1\" class=\"dataframe\">\n",
       "  <thead>\n",
       "    <tr style=\"text-align: right;\">\n",
       "      <th></th>\n",
       "      <th>categories</th>\n",
       "      <th>created_at</th>\n",
       "      <th>icon_url</th>\n",
       "      <th>id</th>\n",
       "      <th>updated_at</th>\n",
       "      <th>url</th>\n",
       "      <th>value</th>\n",
       "    </tr>\n",
       "  </thead>\n",
       "  <tbody>\n",
       "    <tr>\n",
       "      <th>0</th>\n",
       "      <td>[]</td>\n",
       "      <td>2020-01-05 13:42:30.730109</td>\n",
       "      <td>https://assets.chucknorris.host/img/avatar/chuck-norris.png</td>\n",
       "      <td>zpz2_Y4oS0ufnUZ3-WUQcw</td>\n",
       "      <td>2020-01-05 13:42:30.730109</td>\n",
       "      <td>https://api.chucknorris.io/jokes/zpz2_Y4oS0ufnUZ3-WUQcw</td>\n",
       "      <td>Chuck Norris dosent need love, Chuck Norris is love.</td>\n",
       "    </tr>\n",
       "  </tbody>\n",
       "</table>\n",
       "</div>"
      ],
      "text/plain": [
       "  categories                  created_at  \\\n",
       "0         []  2020-01-05 13:42:30.730109   \n",
       "\n",
       "                                                      icon_url  \\\n",
       "0  https://assets.chucknorris.host/img/avatar/chuck-norris.png   \n",
       "\n",
       "                       id                  updated_at  \\\n",
       "0  zpz2_Y4oS0ufnUZ3-WUQcw  2020-01-05 13:42:30.730109   \n",
       "\n",
       "                                                       url  \\\n",
       "0  https://api.chucknorris.io/jokes/zpz2_Y4oS0ufnUZ3-WUQcw   \n",
       "\n",
       "                                                  value  \n",
       "0  Chuck Norris dosent need love, Chuck Norris is love.  "
      ]
     },
     "execution_count": 43,
     "metadata": {},
     "output_type": "execute_result"
    }
   ],
   "source": [
    "df_random_joke #it looks like you only get 1 joke, you can ask for a category ,or a list ,more in the documentation\n",
    "\n"
   ]
  },
  {
   "cell_type": "code",
   "execution_count": 44,
   "metadata": {},
   "outputs": [],
   "source": [
    "pd.set_option('display.max_colwidth', None)"
   ]
  },
  {
   "cell_type": "code",
   "execution_count": 45,
   "metadata": {},
   "outputs": [
    {
     "data": {
      "text/plain": [
       "0    Chuck Norris dosent need love, Chuck Norris is love.\n",
       "Name: value, dtype: object"
      ]
     },
     "execution_count": 45,
     "metadata": {},
     "output_type": "execute_result"
    }
   ],
   "source": [
    "df_random_joke[\"value\"]"
   ]
  },
  {
   "cell_type": "code",
   "execution_count": null,
   "metadata": {},
   "outputs": [],
   "source": []
  },
  {
   "cell_type": "markdown",
   "metadata": {},
   "source": [
    "### second one is W 16   which leads us to Weather! --> ODWeather  https://api.oceandrivers.com/static/docs.html"
   ]
  },
  {
   "cell_type": "code",
   "execution_count": 46,
   "metadata": {},
   "outputs": [],
   "source": [
    "url_odw = \"https://api.oceandrivers.com:443/v1.0/getAemetStation/lastdata/4202/\"\n"
   ]
  },
  {
   "cell_type": "code",
   "execution_count": 47,
   "metadata": {},
   "outputs": [
    {
     "data": {
      "text/plain": [
       "200"
      ]
     },
     "execution_count": 47,
     "metadata": {},
     "output_type": "execute_result"
    }
   ],
   "source": [
    "response_2=requests.get(url_odw)\n",
    "response_2.status_code"
   ]
  },
  {
   "cell_type": "code",
   "execution_count": 48,
   "metadata": {},
   "outputs": [
    {
     "data": {
      "text/plain": [
       "{'TEMPERATURE': 16.1,\n",
       " 'TWD': 90,\n",
       " 'PRESSURE': 1014.6,\n",
       " 'RAIN_MONTH': 0,\n",
       " 'TWS_GUST': 6.666666666666666,\n",
       " 'RAIN_DAY': 0,\n",
       " 'RAIN': 0.0,\n",
       " 'HUMIDITY': 69.0,\n",
       " 'TWS': 3.333333333333333,\n",
       " 'TIME_STRING': '21/11/2023 12:00',\n",
       " 'TWD_GUST': 315,\n",
       " 'TIME': 1700564400000,\n",
       " 'LATITUDE': 39.5604,\n",
       " 'LONGITUDE': 2.7417,\n",
       " 'LOCALTIME': 1}"
      ]
     },
     "execution_count": 48,
     "metadata": {},
     "output_type": "execute_result"
    }
   ],
   "source": [
    "odw_data=response_2.json()\n",
    "odw_data"
   ]
  },
  {
   "cell_type": "code",
   "execution_count": 49,
   "metadata": {},
   "outputs": [
    {
     "data": {
      "text/html": [
       "<div>\n",
       "<style scoped>\n",
       "    .dataframe tbody tr th:only-of-type {\n",
       "        vertical-align: middle;\n",
       "    }\n",
       "\n",
       "    .dataframe tbody tr th {\n",
       "        vertical-align: top;\n",
       "    }\n",
       "\n",
       "    .dataframe thead th {\n",
       "        text-align: right;\n",
       "    }\n",
       "</style>\n",
       "<table border=\"1\" class=\"dataframe\">\n",
       "  <thead>\n",
       "    <tr style=\"text-align: right;\">\n",
       "      <th></th>\n",
       "      <th>TEMPERATURE</th>\n",
       "      <th>TWD</th>\n",
       "      <th>PRESSURE</th>\n",
       "      <th>RAIN_MONTH</th>\n",
       "      <th>TWS_GUST</th>\n",
       "      <th>RAIN_DAY</th>\n",
       "      <th>RAIN</th>\n",
       "      <th>HUMIDITY</th>\n",
       "      <th>TWS</th>\n",
       "      <th>TIME_STRING</th>\n",
       "      <th>TWD_GUST</th>\n",
       "      <th>TIME</th>\n",
       "      <th>LATITUDE</th>\n",
       "      <th>LONGITUDE</th>\n",
       "      <th>LOCALTIME</th>\n",
       "    </tr>\n",
       "  </thead>\n",
       "  <tbody>\n",
       "    <tr>\n",
       "      <th>0</th>\n",
       "      <td>16.1</td>\n",
       "      <td>90</td>\n",
       "      <td>1014.6</td>\n",
       "      <td>0</td>\n",
       "      <td>6.666667</td>\n",
       "      <td>0</td>\n",
       "      <td>0.0</td>\n",
       "      <td>69.0</td>\n",
       "      <td>3.333333</td>\n",
       "      <td>21/11/2023 12:00</td>\n",
       "      <td>315</td>\n",
       "      <td>1700564400000</td>\n",
       "      <td>39.5604</td>\n",
       "      <td>2.7417</td>\n",
       "      <td>1</td>\n",
       "    </tr>\n",
       "  </tbody>\n",
       "</table>\n",
       "</div>"
      ],
      "text/plain": [
       "   TEMPERATURE  TWD  PRESSURE  RAIN_MONTH  TWS_GUST  RAIN_DAY  RAIN  HUMIDITY  \\\n",
       "0         16.1   90    1014.6           0  6.666667         0   0.0      69.0   \n",
       "\n",
       "        TWS       TIME_STRING  TWD_GUST           TIME  LATITUDE  LONGITUDE  \\\n",
       "0  3.333333  21/11/2023 12:00       315  1700564400000   39.5604     2.7417   \n",
       "\n",
       "   LOCALTIME  \n",
       "0          1  "
      ]
     },
     "execution_count": 49,
     "metadata": {},
     "output_type": "execute_result"
    }
   ],
   "source": [
    "odw_df=pd.DataFrame([odw_data])\n",
    "odw_df"
   ]
  },
  {
   "cell_type": "markdown",
   "metadata": {},
   "source": [
    "###  third and last winned A 2 Axolotl https://theaxolotlapi.netlify.app/ --> collection of axolotl pictures and facts"
   ]
  },
  {
   "cell_type": "markdown",
   "metadata": {},
   "source": [
    "### so i googled what is a axolotl and are this [little fellas](https://www.google.com/url?sa=i&url=https%3A%2F%2Fwww.nationalgeographic.com%2Fanimals%2Famphibians%2Ffacts%2Faxolotl&psig=AOvVaw2FQP53goWAmtrHY79sy4Sg&ust=1700654221238000&source=images&cd=vfe&opi=89978449&ved=0CBEQjRxqFwoTCPjurOeE1YIDFQAAAAAdAAAAABAH)"
   ]
  },
  {
   "cell_type": "code",
   "execution_count": 65,
   "metadata": {},
   "outputs": [],
   "source": [
    "url_axo= \"https://theaxolotlapi.netlify.app\""
   ]
  },
  {
   "cell_type": "code",
   "execution_count": 66,
   "metadata": {},
   "outputs": [],
   "source": [
    "# send get request to the api\n",
    "response3=requests.get(url_axo)"
   ]
  },
  {
   "cell_type": "code",
   "execution_count": 67,
   "metadata": {},
   "outputs": [
    {
     "data": {
      "text/plain": [
       "200"
      ]
     },
     "execution_count": 67,
     "metadata": {},
     "output_type": "execute_result"
    }
   ],
   "source": [
    "response3.status_code"
   ]
  },
  {
   "cell_type": "code",
   "execution_count": 70,
   "metadata": {},
   "outputs": [],
   "source": [
    "#data_axo=response3.json()\n",
    "#data_axo # os i have to chose another one because it seems that there is no api endpoint,not one that i found"
   ]
  },
  {
   "cell_type": "code",
   "execution_count": null,
   "metadata": {},
   "outputs": [],
   "source": [
    "# so lets got with this one https://uselessfacts.jsph.pl/"
   ]
  },
  {
   "cell_type": "code",
   "execution_count": 79,
   "metadata": {},
   "outputs": [],
   "source": [
    "url_facts = \"https://uselessfacts.jsph.pl/api/v2/facts/random\""
   ]
  },
  {
   "cell_type": "code",
   "execution_count": 80,
   "metadata": {},
   "outputs": [],
   "source": [
    "response4=requests.get(url_facts)"
   ]
  },
  {
   "cell_type": "code",
   "execution_count": 81,
   "metadata": {},
   "outputs": [
    {
     "data": {
      "text/plain": [
       "200"
      ]
     },
     "execution_count": 81,
     "metadata": {},
     "output_type": "execute_result"
    }
   ],
   "source": [
    "response4.status_code"
   ]
  },
  {
   "cell_type": "code",
   "execution_count": 82,
   "metadata": {},
   "outputs": [
    {
     "data": {
      "text/plain": [
       "{'id': '1fe0dd05895bdc5a5cf1519da948730d',\n",
       " 'text': 'The national anthem of Greece has 158 verses. No one in Greece has memorized all 158 verses. \\xa0',\n",
       " 'source': 'djtech.net',\n",
       " 'source_url': 'http://www.djtech.net/humor/useless_facts.htm',\n",
       " 'language': 'en',\n",
       " 'permalink': 'https://uselessfacts.jsph.pl/api/v2/facts/1fe0dd05895bdc5a5cf1519da948730d'}"
      ]
     },
     "execution_count": 82,
     "metadata": {},
     "output_type": "execute_result"
    }
   ],
   "source": [
    "data_facts = response4.json()\n",
    "data_facts"
   ]
  },
  {
   "cell_type": "code",
   "execution_count": 83,
   "metadata": {},
   "outputs": [
    {
     "data": {
      "text/html": [
       "<div>\n",
       "<style scoped>\n",
       "    .dataframe tbody tr th:only-of-type {\n",
       "        vertical-align: middle;\n",
       "    }\n",
       "\n",
       "    .dataframe tbody tr th {\n",
       "        vertical-align: top;\n",
       "    }\n",
       "\n",
       "    .dataframe thead th {\n",
       "        text-align: right;\n",
       "    }\n",
       "</style>\n",
       "<table border=\"1\" class=\"dataframe\">\n",
       "  <thead>\n",
       "    <tr style=\"text-align: right;\">\n",
       "      <th></th>\n",
       "      <th>id</th>\n",
       "      <th>text</th>\n",
       "      <th>source</th>\n",
       "      <th>source_url</th>\n",
       "      <th>language</th>\n",
       "      <th>permalink</th>\n",
       "    </tr>\n",
       "  </thead>\n",
       "  <tbody>\n",
       "    <tr>\n",
       "      <th>0</th>\n",
       "      <td>1fe0dd05895bdc5a5cf1519da948730d</td>\n",
       "      <td>The national anthem of Greece has 158 verses. No one in Greece has memorized all 158 verses.</td>\n",
       "      <td>djtech.net</td>\n",
       "      <td>http://www.djtech.net/humor/useless_facts.htm</td>\n",
       "      <td>en</td>\n",
       "      <td>https://uselessfacts.jsph.pl/api/v2/facts/1fe0dd05895bdc5a5cf1519da948730d</td>\n",
       "    </tr>\n",
       "  </tbody>\n",
       "</table>\n",
       "</div>"
      ],
      "text/plain": [
       "                                 id  \\\n",
       "0  1fe0dd05895bdc5a5cf1519da948730d   \n",
       "\n",
       "                                                                                             text  \\\n",
       "0  The national anthem of Greece has 158 verses. No one in Greece has memorized all 158 verses.     \n",
       "\n",
       "       source                                     source_url language  \\\n",
       "0  djtech.net  http://www.djtech.net/humor/useless_facts.htm       en   \n",
       "\n",
       "                                                                    permalink  \n",
       "0  https://uselessfacts.jsph.pl/api/v2/facts/1fe0dd05895bdc5a5cf1519da948730d  "
      ]
     },
     "execution_count": 83,
     "metadata": {},
     "output_type": "execute_result"
    }
   ],
   "source": [
    "facts_df=pd.DataFrame([data_facts])\n",
    "facts_df"
   ]
  },
  {
   "cell_type": "code",
   "execution_count": null,
   "metadata": {},
   "outputs": [],
   "source": []
  },
  {
   "cell_type": "code",
   "execution_count": null,
   "metadata": {},
   "outputs": [],
   "source": []
  },
  {
   "cell_type": "code",
   "execution_count": null,
   "metadata": {},
   "outputs": [],
   "source": []
  },
  {
   "cell_type": "code",
   "execution_count": null,
   "metadata": {},
   "outputs": [],
   "source": []
  },
  {
   "cell_type": "code",
   "execution_count": null,
   "metadata": {},
   "outputs": [],
   "source": []
  },
  {
   "cell_type": "code",
   "execution_count": null,
   "metadata": {},
   "outputs": [],
   "source": []
  }
 ],
 "metadata": {
  "kernelspec": {
   "display_name": "Python 3 (ipykernel)",
   "language": "python",
   "name": "python3"
  },
  "language_info": {
   "codemirror_mode": {
    "name": "ipython",
    "version": 3
   },
   "file_extension": ".py",
   "mimetype": "text/x-python",
   "name": "python",
   "nbconvert_exporter": "python",
   "pygments_lexer": "ipython3",
   "version": "3.10.9"
  }
 },
 "nbformat": 4,
 "nbformat_minor": 4
}
